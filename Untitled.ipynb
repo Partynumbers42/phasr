{
 "cells": [
  {
   "cell_type": "code",
   "execution_count": 3,
   "id": "24639b28-0472-4297-a795-8d2f5876c303",
   "metadata": {
    "deletable": true,
    "editable": true,
    "execution": {
     "iopub.execute_input": "2025-03-17T16:31:17.022253Z",
     "iopub.status.busy": "2025-03-17T16:31:17.021252Z",
     "iopub.status.idle": "2025-03-17T16:31:17.222975Z",
     "shell.execute_reply": "2025-03-17T16:31:17.221963Z",
     "shell.execute_reply.started": "2025-03-17T16:31:17.022253Z"
    },
    "frozen": false
   },
   "outputs": [],
   "source": [
    "from mpmath import polylog, lerchphi\n",
    "from mpmath import fp, iv, mp\n",
    "import mpmath\n",
    "import numpy as np"
   ]
  },
  {
   "cell_type": "code",
   "execution_count": 4,
   "id": "f86ec987-8a59-4105-a5ca-a143599ef896",
   "metadata": {
    "execution": {
     "iopub.execute_input": "2025-03-17T16:31:17.400838Z",
     "iopub.status.busy": "2025-03-17T16:31:17.400838Z",
     "iopub.status.idle": "2025-03-17T16:31:17.409587Z",
     "shell.execute_reply": "2025-03-17T16:31:17.408591Z",
     "shell.execute_reply.started": "2025-03-17T16:31:17.400838Z"
    }
   },
   "outputs": [
    {
     "data": {
      "text/plain": [
       "mpf('-9.5803146358879196')"
      ]
     },
     "execution_count": 4,
     "metadata": {},
     "output_type": "execute_result"
    }
   ],
   "source": [
    "c=3.07\n",
    "z=0.519\n",
    "r=1.0\n",
    "polylog(2,-np.exp((c-r)/z))"
   ]
  },
  {
   "cell_type": "code",
   "execution_count": null,
   "id": "474c2aee-131b-4d78-aec5-e7bc8fbc9bfc",
   "metadata": {},
   "outputs": [],
   "source": []
  },
  {
   "cell_type": "code",
   "execution_count": null,
   "id": "62673efb-4c1b-47e0-891b-9f192537e1e1",
   "metadata": {},
   "outputs": [],
   "source": []
  },
  {
   "cell_type": "code",
   "execution_count": 2,
   "id": "c51c4779-564a-42d8-9a92-1a3fbeb440f2",
   "metadata": {
    "deletable": true,
    "editable": true,
    "execution": {
     "iopub.execute_input": "2025-03-17T13:40:30.661756Z",
     "iopub.status.busy": "2025-03-17T13:40:30.661756Z",
     "iopub.status.idle": "2025-03-17T13:40:30.684002Z",
     "shell.execute_reply": "2025-03-17T13:40:30.682690Z",
     "shell.execute_reply.started": "2025-03-17T13:40:30.661756Z"
    },
    "frozen": false
   },
   "outputs": [
    {
     "data": {
      "text/plain": [
       "-1.8981494563160068"
      ]
     },
     "execution_count": 2,
     "metadata": {},
     "output_type": "execute_result"
    }
   ],
   "source": [
    "fp.polylog(5,-2.0)"
   ]
  },
  {
   "cell_type": "code",
   "execution_count": 3,
   "id": "024d3c02-cdf8-4a35-b3f0-043299f70305",
   "metadata": {
    "deletable": true,
    "editable": true,
    "execution": {
     "iopub.execute_input": "2025-03-17T13:40:31.037759Z",
     "iopub.status.busy": "2025-03-17T13:40:31.037759Z",
     "iopub.status.idle": "2025-03-17T13:40:32.753637Z",
     "shell.execute_reply": "2025-03-17T13:40:32.752724Z",
     "shell.execute_reply.started": "2025-03-17T13:40:31.037759Z"
    },
    "frozen": false
   },
   "outputs": [
    {
     "name": "stdout",
     "output_type": "stream",
     "text": [
      "20.9 µs ± 1.24 µs per loop (mean ± std. dev. of 7 runs, 10,000 loops each)\n"
     ]
    }
   ],
   "source": [
    "%timeit fp.polylog(5,-2.0)"
   ]
  },
  {
   "cell_type": "code",
   "execution_count": 4,
   "id": "a38a90fe-d157-4bdd-8f36-0ed736baccfe",
   "metadata": {
    "deletable": true,
    "editable": true,
    "execution": {
     "iopub.execute_input": "2025-03-17T13:40:32.754953Z",
     "iopub.status.busy": "2025-03-17T13:40:32.754953Z",
     "iopub.status.idle": "2025-03-17T13:40:38.641410Z",
     "shell.execute_reply": "2025-03-17T13:40:38.640408Z",
     "shell.execute_reply.started": "2025-03-17T13:40:32.754953Z"
    },
    "frozen": false
   },
   "outputs": [
    {
     "name": "stdout",
     "output_type": "stream",
     "text": [
      "733 µs ± 54.6 µs per loop (mean ± std. dev. of 7 runs, 1,000 loops each)\n"
     ]
    }
   ],
   "source": [
    "%timeit polylog(5,-2.0)"
   ]
  },
  {
   "cell_type": "code",
   "execution_count": 13,
   "id": "d8f5ca17-0d5c-47dc-96ef-687e8e163ec8",
   "metadata": {
    "deletable": true,
    "editable": true,
    "execution": {
     "iopub.execute_input": "2025-03-17T12:34:26.449790Z",
     "iopub.status.busy": "2025-03-17T12:34:26.448790Z",
     "iopub.status.idle": "2025-03-17T12:34:26.471090Z",
     "shell.execute_reply": "2025-03-17T12:34:26.470091Z",
     "shell.execute_reply.started": "2025-03-17T12:34:26.449790Z"
    },
    "frozen": false
   },
   "outputs": [
    {
     "data": {
      "text/plain": [
       "mpf('-1.8981494563160084')"
      ]
     },
     "execution_count": 13,
     "metadata": {},
     "output_type": "execute_result"
    }
   ],
   "source": [
    "polylog(5,-2.0)"
   ]
  },
  {
   "cell_type": "code",
   "execution_count": 79,
   "id": "76657b5e-f308-4f2d-afbe-54a34fda5b20",
   "metadata": {
    "deletable": true,
    "editable": true,
    "execution": {
     "iopub.execute_input": "2025-03-17T13:23:48.043713Z",
     "iopub.status.busy": "2025-03-17T13:23:48.042710Z",
     "iopub.status.idle": "2025-03-17T13:23:48.199572Z",
     "shell.execute_reply": "2025-03-17T13:23:48.198573Z",
     "shell.execute_reply.started": "2025-03-17T13:23:48.043713Z"
    },
    "frozen": false
   },
   "outputs": [
    {
     "data": {
      "text/plain": [
       "mpf('-9.9896048862095998e-7')"
      ]
     },
     "execution_count": 79,
     "metadata": {},
     "output_type": "execute_result"
    }
   ],
   "source": [
    "c=3.07\n",
    "z=0.519\n",
    "q=100\n",
    "np.real(lerchphi(-np.exp(c/z),2,1-1j*q*z))"
   ]
  },
  {
   "cell_type": "code",
   "execution_count": 59,
   "id": "c5670ea5-7e26-40e0-85ac-04ef69a02ab5",
   "metadata": {
    "deletable": true,
    "editable": true,
    "execution": {
     "iopub.execute_input": "2025-03-17T13:14:40.531073Z",
     "iopub.status.busy": "2025-03-17T13:14:40.531073Z",
     "iopub.status.idle": "2025-03-17T13:14:40.628962Z",
     "shell.execute_reply": "2025-03-17T13:14:40.627056Z",
     "shell.execute_reply.started": "2025-03-17T13:14:40.531073Z"
    },
    "frozen": false
   },
   "outputs": [
    {
     "ename": "OverflowError",
     "evalue": "math range error",
     "output_type": "error",
     "traceback": [
      "\u001b[1;31m---------------------------------------------------------------------------\u001b[0m",
      "\u001b[1;31mOverflowError\u001b[0m                             Traceback (most recent call last)",
      "Input \u001b[1;32mIn [59]\u001b[0m, in \u001b[0;36m<cell line: 1>\u001b[1;34m()\u001b[0m\n\u001b[1;32m----> 1\u001b[0m \u001b[43mfp\u001b[49m\u001b[38;5;241;43m.\u001b[39;49m\u001b[43mlerchphi\u001b[49m\u001b[43m(\u001b[49m\u001b[38;5;241;43m-\u001b[39;49m\u001b[43mnp\u001b[49m\u001b[38;5;241;43m.\u001b[39;49m\u001b[43mexp\u001b[49m\u001b[43m(\u001b[49m\u001b[43mc\u001b[49m\u001b[38;5;241;43m/\u001b[39;49m\u001b[43mz\u001b[49m\u001b[43m)\u001b[49m\u001b[43m,\u001b[49m\u001b[38;5;241;43m2\u001b[39;49m\u001b[43m,\u001b[49m\u001b[38;5;241;43m1\u001b[39;49m\u001b[38;5;241;43m-\u001b[39;49m\u001b[38;5;241;43m1e3j\u001b[39;49m\u001b[43m)\u001b[49m\n",
      "File \u001b[1;32mC:\\ProgramData\\Anaconda3\\lib\\site-packages\\mpmath\\ctx_fp.py:57\u001b[0m, in \u001b[0;36mFPContext._wrap_specfun.<locals>.f_wrapped\u001b[1;34m(ctx, *args, **kwargs)\u001b[0m\n\u001b[0;32m     55\u001b[0m convert \u001b[38;5;241m=\u001b[39m ctx\u001b[38;5;241m.\u001b[39mconvert\n\u001b[0;32m     56\u001b[0m args \u001b[38;5;241m=\u001b[39m [convert(a) \u001b[38;5;28;01mfor\u001b[39;00m a \u001b[38;5;129;01min\u001b[39;00m args]\n\u001b[1;32m---> 57\u001b[0m \u001b[38;5;28;01mreturn\u001b[39;00m \u001b[43mf\u001b[49m\u001b[43m(\u001b[49m\u001b[43mctx\u001b[49m\u001b[43m,\u001b[49m\u001b[43m \u001b[49m\u001b[38;5;241;43m*\u001b[39;49m\u001b[43margs\u001b[49m\u001b[43m,\u001b[49m\u001b[43m \u001b[49m\u001b[38;5;241;43m*\u001b[39;49m\u001b[38;5;241;43m*\u001b[39;49m\u001b[43mkwargs\u001b[49m\u001b[43m)\u001b[49m\n",
      "File \u001b[1;32mC:\\ProgramData\\Anaconda3\\lib\\site-packages\\mpmath\\functions\\zeta.py:1146\u001b[0m, in \u001b[0;36mlerchphi\u001b[1;34m(ctx, z, s, a)\u001b[0m\n\u001b[0;32m   1144\u001b[0m     \u001b[38;5;28;01mreturn\u001b[39;00m zpow \u001b[38;5;241m*\u001b[39m ctx\u001b[38;5;241m.\u001b[39mlerchphi(z,s, a\u001b[38;5;241m+\u001b[39mm) \u001b[38;5;241m+\u001b[39m v\n\u001b[0;32m   1145\u001b[0m g \u001b[38;5;241m=\u001b[39m ctx\u001b[38;5;241m.\u001b[39mln(z)\n\u001b[1;32m-> 1146\u001b[0m v \u001b[38;5;241m=\u001b[39m \u001b[38;5;241m1\u001b[39m\u001b[38;5;241m/\u001b[39m(\u001b[38;5;241m2\u001b[39m\u001b[38;5;241m*\u001b[39ma\u001b[38;5;241m*\u001b[39m\u001b[38;5;241m*\u001b[39ms) \u001b[38;5;241m+\u001b[39m \u001b[43mctx\u001b[49m\u001b[38;5;241;43m.\u001b[39;49m\u001b[43mgammainc\u001b[49m\u001b[43m(\u001b[49m\u001b[38;5;241;43m1\u001b[39;49m\u001b[38;5;241;43m-\u001b[39;49m\u001b[43ms\u001b[49m\u001b[43m,\u001b[49m\u001b[43m \u001b[49m\u001b[38;5;241;43m-\u001b[39;49m\u001b[43ma\u001b[49m\u001b[38;5;241;43m*\u001b[39;49m\u001b[43mg\u001b[49m\u001b[43m)\u001b[49m \u001b[38;5;241m*\u001b[39m (\u001b[38;5;241m-\u001b[39mg)\u001b[38;5;241m*\u001b[39m\u001b[38;5;241m*\u001b[39m(s\u001b[38;5;241m-\u001b[39m\u001b[38;5;241m1\u001b[39m) \u001b[38;5;241m/\u001b[39m z\u001b[38;5;241m*\u001b[39m\u001b[38;5;241m*\u001b[39ma\n\u001b[0;32m   1147\u001b[0m h \u001b[38;5;241m=\u001b[39m s \u001b[38;5;241m/\u001b[39m \u001b[38;5;241m2\u001b[39m\n\u001b[0;32m   1148\u001b[0m r \u001b[38;5;241m=\u001b[39m \u001b[38;5;241m2\u001b[39m\u001b[38;5;241m*\u001b[39mctx\u001b[38;5;241m.\u001b[39mpi\n",
      "File \u001b[1;32mC:\\ProgramData\\Anaconda3\\lib\\site-packages\\mpmath\\functions\\expintegrals.py:169\u001b[0m, in \u001b[0;36mgammainc\u001b[1;34m(ctx, z, a, b, regularized)\u001b[0m\n\u001b[0;32m    167\u001b[0m \u001b[38;5;66;03m# Upper gamma\u001b[39;00m\n\u001b[0;32m    168\u001b[0m \u001b[38;5;28;01melif\u001b[39;00m lower_modified:\n\u001b[1;32m--> 169\u001b[0m     \u001b[38;5;28;01mreturn\u001b[39;00m \u001b[43mctx\u001b[49m\u001b[38;5;241;43m.\u001b[39;49m\u001b[43m_upper_gamma\u001b[49m\u001b[43m(\u001b[49m\u001b[43mz\u001b[49m\u001b[43m,\u001b[49m\u001b[43m \u001b[49m\u001b[43ma\u001b[49m\u001b[43m,\u001b[49m\u001b[43m \u001b[49m\u001b[43mregularized\u001b[49m\u001b[43m)\u001b[49m\n\u001b[0;32m    170\u001b[0m \u001b[38;5;66;03m# Lower gamma\u001b[39;00m\n\u001b[0;32m    171\u001b[0m \u001b[38;5;28;01melif\u001b[39;00m upper_modified:\n",
      "File \u001b[1;32mC:\\ProgramData\\Anaconda3\\lib\\site-packages\\mpmath\\functions\\expintegrals.py:217\u001b[0m, in \u001b[0;36m_upper_gamma\u001b[1;34m(ctx, z, a, regularized)\u001b[0m\n\u001b[0;32m    215\u001b[0m         r \u001b[38;5;241m=\u001b[39m z\u001b[38;5;241m-\u001b[39m\u001b[38;5;241m1\u001b[39m\n\u001b[0;32m    216\u001b[0m         \u001b[38;5;28;01mreturn\u001b[39;00m [([ctx\u001b[38;5;241m.\u001b[39mexp(nega), a], [\u001b[38;5;241m1\u001b[39m, r], [], G, [\u001b[38;5;241m1\u001b[39m, \u001b[38;5;241m-\u001b[39mr], [], \u001b[38;5;241m1\u001b[39m\u001b[38;5;241m/\u001b[39mnega)]\n\u001b[1;32m--> 217\u001b[0m     \u001b[38;5;28;01mreturn\u001b[39;00m \u001b[43mctx\u001b[49m\u001b[38;5;241;43m.\u001b[39;49m\u001b[43mhypercomb\u001b[49m\u001b[43m(\u001b[49m\u001b[43mh\u001b[49m\u001b[43m,\u001b[49m\u001b[43m \u001b[49m\u001b[43m[\u001b[49m\u001b[43mz\u001b[49m\u001b[43m]\u001b[49m\u001b[43m,\u001b[49m\u001b[43m \u001b[49m\u001b[43mforce_series\u001b[49m\u001b[38;5;241;43m=\u001b[39;49m\u001b[38;5;28;43;01mTrue\u001b[39;49;00m\u001b[43m)\u001b[49m\n\u001b[0;32m    218\u001b[0m \u001b[38;5;28;01mexcept\u001b[39;00m ctx\u001b[38;5;241m.\u001b[39mNoConvergence:\n\u001b[0;32m    219\u001b[0m     \u001b[38;5;28;01mdef\u001b[39;00m \u001b[38;5;21mh\u001b[39m(z):\n",
      "File \u001b[1;32mC:\\ProgramData\\Anaconda3\\lib\\site-packages\\mpmath\\functions\\hypergeometric.py:79\u001b[0m, in \u001b[0;36mhypercomb\u001b[1;34m(ctx, function, params, discard_known_zeros, **kwargs)\u001b[0m\n\u001b[0;32m     77\u001b[0m orig2 \u001b[38;5;241m=\u001b[39m ctx\u001b[38;5;241m.\u001b[39mprec\n\u001b[0;32m     78\u001b[0m params \u001b[38;5;241m=\u001b[39m orig_params[:]\n\u001b[1;32m---> 79\u001b[0m terms \u001b[38;5;241m=\u001b[39m \u001b[43mfunction\u001b[49m\u001b[43m(\u001b[49m\u001b[38;5;241;43m*\u001b[39;49m\u001b[43mparams\u001b[49m\u001b[43m)\u001b[49m\n\u001b[0;32m     80\u001b[0m \u001b[38;5;28;01mif\u001b[39;00m verbose:\n\u001b[0;32m     81\u001b[0m     \u001b[38;5;28mprint\u001b[39m()\n",
      "File \u001b[1;32mC:\\ProgramData\\Anaconda3\\lib\\site-packages\\mpmath\\functions\\expintegrals.py:216\u001b[0m, in \u001b[0;36m_upper_gamma.<locals>.h\u001b[1;34m(z)\u001b[0m\n\u001b[0;32m    214\u001b[0m \u001b[38;5;28;01mdef\u001b[39;00m \u001b[38;5;21mh\u001b[39m(z):\n\u001b[0;32m    215\u001b[0m     r \u001b[38;5;241m=\u001b[39m z\u001b[38;5;241m-\u001b[39m\u001b[38;5;241m1\u001b[39m\n\u001b[1;32m--> 216\u001b[0m     \u001b[38;5;28;01mreturn\u001b[39;00m [([\u001b[43mctx\u001b[49m\u001b[38;5;241;43m.\u001b[39;49m\u001b[43mexp\u001b[49m\u001b[43m(\u001b[49m\u001b[43mnega\u001b[49m\u001b[43m)\u001b[49m, a], [\u001b[38;5;241m1\u001b[39m, r], [], G, [\u001b[38;5;241m1\u001b[39m, \u001b[38;5;241m-\u001b[39mr], [], \u001b[38;5;241m1\u001b[39m\u001b[38;5;241m/\u001b[39mnega)]\n",
      "File \u001b[1;32mC:\\ProgramData\\Anaconda3\\lib\\site-packages\\mpmath\\math2.py:32\u001b[0m, in \u001b[0;36m_mathfun_real.<locals>.f\u001b[1;34m(x, **kwargs)\u001b[0m\n\u001b[0;32m     30\u001b[0m     \u001b[38;5;28;01mreturn\u001b[39;00m f_real(x)\n\u001b[0;32m     31\u001b[0m \u001b[38;5;28;01mif\u001b[39;00m \u001b[38;5;28mtype\u001b[39m(x) \u001b[38;5;129;01mis\u001b[39;00m \u001b[38;5;28mcomplex\u001b[39m:\n\u001b[1;32m---> 32\u001b[0m     \u001b[38;5;28;01mreturn\u001b[39;00m \u001b[43mf_complex\u001b[49m\u001b[43m(\u001b[49m\u001b[43mx\u001b[49m\u001b[43m)\u001b[49m\n\u001b[0;32m     33\u001b[0m \u001b[38;5;28;01mtry\u001b[39;00m:\n\u001b[0;32m     34\u001b[0m     x \u001b[38;5;241m=\u001b[39m \u001b[38;5;28mfloat\u001b[39m(x)\n",
      "\u001b[1;31mOverflowError\u001b[0m: math range error"
     ]
    }
   ],
   "source": [
    "fp.lerchphi(-np.exp(c/z),2,1-1e3j)"
   ]
  },
  {
   "cell_type": "code",
   "execution_count": null,
   "id": "86465866-8126-4a8c-9ec5-23e8e895b5ec",
   "metadata": {
    "deletable": true,
    "editable": true,
    "frozen": false
   },
   "outputs": [],
   "source": []
  },
  {
   "cell_type": "code",
   "execution_count": null,
   "id": "5bac326d-4e40-4017-8725-66d2c6cd406c",
   "metadata": {
    "deletable": true,
    "editable": true,
    "frozen": false
   },
   "outputs": [],
   "source": []
  },
  {
   "cell_type": "code",
   "execution_count": null,
   "id": "36968399-9765-4534-ae3d-f0c14450f4e7",
   "metadata": {
    "deletable": true,
    "editable": true,
    "frozen": false
   },
   "outputs": [],
   "source": []
  },
  {
   "cell_type": "code",
   "execution_count": null,
   "id": "57c054f5-7d90-446a-833f-f92a2f1bafd5",
   "metadata": {
    "deletable": true,
    "editable": true,
    "frozen": false
   },
   "outputs": [],
   "source": []
  },
  {
   "cell_type": "code",
   "execution_count": null,
   "id": "6fefc858-375b-49ed-9d1f-6ce5ad1836e2",
   "metadata": {
    "deletable": true,
    "editable": true,
    "frozen": false
   },
   "outputs": [],
   "source": []
  },
  {
   "cell_type": "code",
   "execution_count": 48,
   "id": "27356103-8763-4970-9b49-5afc7657bac7",
   "metadata": {
    "deletable": true,
    "editable": true,
    "execution": {
     "iopub.execute_input": "2025-03-17T13:11:27.408542Z",
     "iopub.status.busy": "2025-03-17T13:11:27.408542Z",
     "iopub.status.idle": "2025-03-17T13:11:27.508353Z",
     "shell.execute_reply": "2025-03-17T13:11:27.507460Z",
     "shell.execute_reply.started": "2025-03-17T13:11:27.408542Z"
    },
    "frozen": false
   },
   "outputs": [
    {
     "ename": "OverflowError",
     "evalue": "math range error",
     "output_type": "error",
     "traceback": [
      "\u001b[1;31m---------------------------------------------------------------------------\u001b[0m",
      "\u001b[1;31mOverflowError\u001b[0m                             Traceback (most recent call last)",
      "Input \u001b[1;32mIn [48]\u001b[0m, in \u001b[0;36m<cell line: 4>\u001b[1;34m()\u001b[0m\n\u001b[0;32m      2\u001b[0m z\u001b[38;5;241m=\u001b[39m\u001b[38;5;241m0.519\u001b[39m\n\u001b[0;32m      3\u001b[0m q\u001b[38;5;241m=\u001b[39m\u001b[38;5;241m2.0\u001b[39m\n\u001b[1;32m----> 4\u001b[0m \u001b[43mfp\u001b[49m\u001b[38;5;241;43m.\u001b[39;49m\u001b[43mlerchphi\u001b[49m\u001b[43m(\u001b[49m\u001b[38;5;241;43m-\u001b[39;49m\u001b[43mnp\u001b[49m\u001b[38;5;241;43m.\u001b[39;49m\u001b[43mexp\u001b[49m\u001b[43m(\u001b[49m\u001b[43mc\u001b[49m\u001b[38;5;241;43m/\u001b[39;49m\u001b[43mz\u001b[49m\u001b[43m)\u001b[49m\u001b[43m,\u001b[49m\u001b[38;5;241;43m2\u001b[39;49m\u001b[43m,\u001b[49m\u001b[38;5;241;43m1.0\u001b[39;49m\u001b[38;5;241;43m-\u001b[39;49m\u001b[38;5;241;43m1\u001b[39;49m\u001b[43mj\u001b[49m\u001b[38;5;241;43m*\u001b[39;49m\u001b[43mq\u001b[49m\u001b[38;5;241;43m*\u001b[39;49m\u001b[43mz\u001b[49m\u001b[43m)\u001b[49m\n",
      "File \u001b[1;32mC:\\ProgramData\\Anaconda3\\lib\\site-packages\\mpmath\\ctx_fp.py:57\u001b[0m, in \u001b[0;36mFPContext._wrap_specfun.<locals>.f_wrapped\u001b[1;34m(ctx, *args, **kwargs)\u001b[0m\n\u001b[0;32m     55\u001b[0m convert \u001b[38;5;241m=\u001b[39m ctx\u001b[38;5;241m.\u001b[39mconvert\n\u001b[0;32m     56\u001b[0m args \u001b[38;5;241m=\u001b[39m [convert(a) \u001b[38;5;28;01mfor\u001b[39;00m a \u001b[38;5;129;01min\u001b[39;00m args]\n\u001b[1;32m---> 57\u001b[0m \u001b[38;5;28;01mreturn\u001b[39;00m \u001b[43mf\u001b[49m\u001b[43m(\u001b[49m\u001b[43mctx\u001b[49m\u001b[43m,\u001b[49m\u001b[43m \u001b[49m\u001b[38;5;241;43m*\u001b[39;49m\u001b[43margs\u001b[49m\u001b[43m,\u001b[49m\u001b[43m \u001b[49m\u001b[38;5;241;43m*\u001b[39;49m\u001b[38;5;241;43m*\u001b[39;49m\u001b[43mkwargs\u001b[49m\u001b[43m)\u001b[49m\n",
      "File \u001b[1;32mC:\\ProgramData\\Anaconda3\\lib\\site-packages\\mpmath\\functions\\zeta.py:1151\u001b[0m, in \u001b[0;36mlerchphi\u001b[1;34m(ctx, z, s, a)\u001b[0m\n\u001b[0;32m   1148\u001b[0m r \u001b[38;5;241m=\u001b[39m \u001b[38;5;241m2\u001b[39m\u001b[38;5;241m*\u001b[39mctx\u001b[38;5;241m.\u001b[39mpi\n\u001b[0;32m   1149\u001b[0m f \u001b[38;5;241m=\u001b[39m \u001b[38;5;28;01mlambda\u001b[39;00m t: ctx\u001b[38;5;241m.\u001b[39msin(s\u001b[38;5;241m*\u001b[39mctx\u001b[38;5;241m.\u001b[39matan(t\u001b[38;5;241m/\u001b[39ma)\u001b[38;5;241m-\u001b[39mt\u001b[38;5;241m*\u001b[39mg) \u001b[38;5;241m/\u001b[39m \\\n\u001b[0;32m   1150\u001b[0m     ((a\u001b[38;5;241m*\u001b[39m\u001b[38;5;241m*\u001b[39m\u001b[38;5;241m2\u001b[39m\u001b[38;5;241m+\u001b[39mt\u001b[38;5;241m*\u001b[39m\u001b[38;5;241m*\u001b[39m\u001b[38;5;241m2\u001b[39m)\u001b[38;5;241m*\u001b[39m\u001b[38;5;241m*\u001b[39mh \u001b[38;5;241m*\u001b[39m ctx\u001b[38;5;241m.\u001b[39mexpm1(r\u001b[38;5;241m*\u001b[39mt))\n\u001b[1;32m-> 1151\u001b[0m v \u001b[38;5;241m+\u001b[39m\u001b[38;5;241m=\u001b[39m \u001b[38;5;241m2\u001b[39m\u001b[38;5;241m*\u001b[39m\u001b[43mctx\u001b[49m\u001b[38;5;241;43m.\u001b[39;49m\u001b[43mquad\u001b[49m\u001b[43m(\u001b[49m\u001b[43mf\u001b[49m\u001b[43m,\u001b[49m\u001b[43m \u001b[49m\u001b[43m[\u001b[49m\u001b[38;5;241;43m0\u001b[39;49m\u001b[43m,\u001b[49m\u001b[43m \u001b[49m\u001b[43mctx\u001b[49m\u001b[38;5;241;43m.\u001b[39;49m\u001b[43minf\u001b[49m\u001b[43m]\u001b[49m\u001b[43m)\u001b[49m\n\u001b[0;32m   1152\u001b[0m \u001b[38;5;28;01mif\u001b[39;00m \u001b[38;5;129;01mnot\u001b[39;00m ctx\u001b[38;5;241m.\u001b[39mim(z) \u001b[38;5;129;01mand\u001b[39;00m \u001b[38;5;129;01mnot\u001b[39;00m ctx\u001b[38;5;241m.\u001b[39mim(s) \u001b[38;5;129;01mand\u001b[39;00m \u001b[38;5;129;01mnot\u001b[39;00m ctx\u001b[38;5;241m.\u001b[39mim(a) \u001b[38;5;129;01mand\u001b[39;00m ctx\u001b[38;5;241m.\u001b[39mre(z) \u001b[38;5;241m<\u001b[39m \u001b[38;5;241m1\u001b[39m:\n\u001b[0;32m   1153\u001b[0m     v \u001b[38;5;241m=\u001b[39m ctx\u001b[38;5;241m.\u001b[39mchop(v)\n",
      "File \u001b[1;32mC:\\ProgramData\\Anaconda3\\lib\\site-packages\\mpmath\\calculus\\quadrature.py:746\u001b[0m, in \u001b[0;36mQuadratureMethods.quad\u001b[1;34m(ctx, f, *points, **kwargs)\u001b[0m\n\u001b[0;32m    744\u001b[0m ctx\u001b[38;5;241m.\u001b[39mprec \u001b[38;5;241m+\u001b[39m\u001b[38;5;241m=\u001b[39m \u001b[38;5;241m20\u001b[39m\n\u001b[0;32m    745\u001b[0m \u001b[38;5;28;01mif\u001b[39;00m dim \u001b[38;5;241m==\u001b[39m \u001b[38;5;241m1\u001b[39m:\n\u001b[1;32m--> 746\u001b[0m     v, err \u001b[38;5;241m=\u001b[39m \u001b[43mrule\u001b[49m\u001b[38;5;241;43m.\u001b[39;49m\u001b[43msummation\u001b[49m\u001b[43m(\u001b[49m\u001b[43mf\u001b[49m\u001b[43m,\u001b[49m\u001b[43m \u001b[49m\u001b[43mpoints\u001b[49m\u001b[43m[\u001b[49m\u001b[38;5;241;43m0\u001b[39;49m\u001b[43m]\u001b[49m\u001b[43m,\u001b[49m\u001b[43m \u001b[49m\u001b[43mprec\u001b[49m\u001b[43m,\u001b[49m\u001b[43m \u001b[49m\u001b[43mepsilon\u001b[49m\u001b[43m,\u001b[49m\u001b[43m \u001b[49m\u001b[43mm\u001b[49m\u001b[43m,\u001b[49m\u001b[43m \u001b[49m\u001b[43mverbose\u001b[49m\u001b[43m)\u001b[49m\n\u001b[0;32m    747\u001b[0m \u001b[38;5;28;01melif\u001b[39;00m dim \u001b[38;5;241m==\u001b[39m \u001b[38;5;241m2\u001b[39m:\n\u001b[0;32m    748\u001b[0m     v, err \u001b[38;5;241m=\u001b[39m rule\u001b[38;5;241m.\u001b[39msummation(\u001b[38;5;28;01mlambda\u001b[39;00m x: \\\n\u001b[0;32m    749\u001b[0m             rule\u001b[38;5;241m.\u001b[39msummation(\u001b[38;5;28;01mlambda\u001b[39;00m y: f(x,y), \\\n\u001b[0;32m    750\u001b[0m             points[\u001b[38;5;241m1\u001b[39m], prec, epsilon, m)[\u001b[38;5;241m0\u001b[39m],\n\u001b[0;32m    751\u001b[0m         points[\u001b[38;5;241m0\u001b[39m], prec, epsilon, m, verbose)\n",
      "File \u001b[1;32mC:\\ProgramData\\Anaconda3\\lib\\site-packages\\mpmath\\calculus\\quadrature.py:233\u001b[0m, in \u001b[0;36mQuadratureRule.summation\u001b[1;34m(self, f, points, prec, epsilon, max_degree, verbose)\u001b[0m\n\u001b[0;32m    230\u001b[0m \u001b[38;5;28;01mif\u001b[39;00m verbose:\n\u001b[0;32m    231\u001b[0m     \u001b[38;5;28mprint\u001b[39m(\u001b[38;5;124m\"\u001b[39m\u001b[38;5;124mIntegrating from \u001b[39m\u001b[38;5;132;01m%s\u001b[39;00m\u001b[38;5;124m to \u001b[39m\u001b[38;5;132;01m%s\u001b[39;00m\u001b[38;5;124m (degree \u001b[39m\u001b[38;5;132;01m%s\u001b[39;00m\u001b[38;5;124m of \u001b[39m\u001b[38;5;132;01m%s\u001b[39;00m\u001b[38;5;124m)\u001b[39m\u001b[38;5;124m\"\u001b[39m \u001b[38;5;241m%\u001b[39m \\\n\u001b[0;32m    232\u001b[0m         (ctx\u001b[38;5;241m.\u001b[39mnstr(a), ctx\u001b[38;5;241m.\u001b[39mnstr(b), degree, max_degree))\n\u001b[1;32m--> 233\u001b[0m result \u001b[38;5;241m=\u001b[39m \u001b[38;5;28;43mself\u001b[39;49m\u001b[38;5;241;43m.\u001b[39;49m\u001b[43msum_next\u001b[49m\u001b[43m(\u001b[49m\u001b[43mf\u001b[49m\u001b[43m,\u001b[49m\u001b[43m \u001b[49m\u001b[43mnodes\u001b[49m\u001b[43m,\u001b[49m\u001b[43m \u001b[49m\u001b[43mdegree\u001b[49m\u001b[43m,\u001b[49m\u001b[43m \u001b[49m\u001b[43mprec\u001b[49m\u001b[43m,\u001b[49m\u001b[43m \u001b[49m\u001b[43mresults\u001b[49m\u001b[43m,\u001b[49m\u001b[43m \u001b[49m\u001b[43mverbose\u001b[49m\u001b[43m)\u001b[49m\n\u001b[0;32m    234\u001b[0m results\u001b[38;5;241m.\u001b[39mappend(result)\n\u001b[0;32m    235\u001b[0m \u001b[38;5;28;01mif\u001b[39;00m degree \u001b[38;5;241m>\u001b[39m \u001b[38;5;241m1\u001b[39m:\n",
      "File \u001b[1;32mC:\\ProgramData\\Anaconda3\\lib\\site-packages\\mpmath\\calculus\\quadrature.py:308\u001b[0m, in \u001b[0;36mTanhSinh.sum_next\u001b[1;34m(self, f, nodes, degree, prec, previous, verbose)\u001b[0m\n\u001b[0;32m    306\u001b[0m \u001b[38;5;28;01melse\u001b[39;00m:\n\u001b[0;32m    307\u001b[0m     S \u001b[38;5;241m=\u001b[39m \u001b[38;5;28mself\u001b[39m\u001b[38;5;241m.\u001b[39mctx\u001b[38;5;241m.\u001b[39mzero\n\u001b[1;32m--> 308\u001b[0m S \u001b[38;5;241m+\u001b[39m\u001b[38;5;241m=\u001b[39m \u001b[38;5;28;43mself\u001b[39;49m\u001b[38;5;241;43m.\u001b[39;49m\u001b[43mctx\u001b[49m\u001b[38;5;241;43m.\u001b[39;49m\u001b[43mfdot\u001b[49m\u001b[43m(\u001b[49m\u001b[43m(\u001b[49m\u001b[43mw\u001b[49m\u001b[43m,\u001b[49m\u001b[43mf\u001b[49m\u001b[43m(\u001b[49m\u001b[43mx\u001b[49m\u001b[43m)\u001b[49m\u001b[43m)\u001b[49m\u001b[43m \u001b[49m\u001b[38;5;28;43;01mfor\u001b[39;49;00m\u001b[43m \u001b[49m\u001b[43m(\u001b[49m\u001b[43mx\u001b[49m\u001b[43m,\u001b[49m\u001b[43mw\u001b[49m\u001b[43m)\u001b[49m\u001b[43m \u001b[49m\u001b[38;5;129;43;01min\u001b[39;49;00m\u001b[43m \u001b[49m\u001b[43mnodes\u001b[49m\u001b[43m)\u001b[49m\n\u001b[0;32m    309\u001b[0m \u001b[38;5;28;01mreturn\u001b[39;00m h\u001b[38;5;241m*\u001b[39mS\n",
      "File \u001b[1;32mC:\\ProgramData\\Anaconda3\\lib\\site-packages\\mpmath\\ctx_base.py:114\u001b[0m, in \u001b[0;36mStandardBaseContext.fdot\u001b[1;34m(ctx, xs, ys, conjugate)\u001b[0m\n\u001b[0;32m    112\u001b[0m     \u001b[38;5;28;01mreturn\u001b[39;00m \u001b[38;5;28msum\u001b[39m((x\u001b[38;5;241m*\u001b[39mcf(y) \u001b[38;5;28;01mfor\u001b[39;00m (x,y) \u001b[38;5;129;01min\u001b[39;00m xs), ctx\u001b[38;5;241m.\u001b[39mzero)\n\u001b[0;32m    113\u001b[0m \u001b[38;5;28;01melse\u001b[39;00m:\n\u001b[1;32m--> 114\u001b[0m     \u001b[38;5;28;01mreturn\u001b[39;00m \u001b[38;5;28;43msum\u001b[39;49m\u001b[43m(\u001b[49m\u001b[43m(\u001b[49m\u001b[43mx\u001b[49m\u001b[38;5;241;43m*\u001b[39;49m\u001b[43my\u001b[49m\u001b[43m \u001b[49m\u001b[38;5;28;43;01mfor\u001b[39;49;00m\u001b[43m \u001b[49m\u001b[43m(\u001b[49m\u001b[43mx\u001b[49m\u001b[43m,\u001b[49m\u001b[43my\u001b[49m\u001b[43m)\u001b[49m\u001b[43m \u001b[49m\u001b[38;5;129;43;01min\u001b[39;49;00m\u001b[43m \u001b[49m\u001b[43mxs\u001b[49m\u001b[43m)\u001b[49m\u001b[43m,\u001b[49m\u001b[43m \u001b[49m\u001b[43mctx\u001b[49m\u001b[38;5;241;43m.\u001b[39;49m\u001b[43mzero\u001b[49m\u001b[43m)\u001b[49m\n",
      "File \u001b[1;32mC:\\ProgramData\\Anaconda3\\lib\\site-packages\\mpmath\\ctx_base.py:114\u001b[0m, in \u001b[0;36m<genexpr>\u001b[1;34m(.0)\u001b[0m\n\u001b[0;32m    112\u001b[0m     \u001b[38;5;28;01mreturn\u001b[39;00m \u001b[38;5;28msum\u001b[39m((x\u001b[38;5;241m*\u001b[39mcf(y) \u001b[38;5;28;01mfor\u001b[39;00m (x,y) \u001b[38;5;129;01min\u001b[39;00m xs), ctx\u001b[38;5;241m.\u001b[39mzero)\n\u001b[0;32m    113\u001b[0m \u001b[38;5;28;01melse\u001b[39;00m:\n\u001b[1;32m--> 114\u001b[0m     \u001b[38;5;28;01mreturn\u001b[39;00m \u001b[38;5;28msum\u001b[39m((x\u001b[38;5;241m*\u001b[39my \u001b[38;5;28;01mfor\u001b[39;00m (x,y) \u001b[38;5;129;01min\u001b[39;00m xs), ctx\u001b[38;5;241m.\u001b[39mzero)\n",
      "File \u001b[1;32mC:\\ProgramData\\Anaconda3\\lib\\site-packages\\mpmath\\calculus\\quadrature.py:308\u001b[0m, in \u001b[0;36m<genexpr>\u001b[1;34m(.0)\u001b[0m\n\u001b[0;32m    306\u001b[0m \u001b[38;5;28;01melse\u001b[39;00m:\n\u001b[0;32m    307\u001b[0m     S \u001b[38;5;241m=\u001b[39m \u001b[38;5;28mself\u001b[39m\u001b[38;5;241m.\u001b[39mctx\u001b[38;5;241m.\u001b[39mzero\n\u001b[1;32m--> 308\u001b[0m S \u001b[38;5;241m+\u001b[39m\u001b[38;5;241m=\u001b[39m \u001b[38;5;28mself\u001b[39m\u001b[38;5;241m.\u001b[39mctx\u001b[38;5;241m.\u001b[39mfdot((w,\u001b[43mf\u001b[49m\u001b[43m(\u001b[49m\u001b[43mx\u001b[49m\u001b[43m)\u001b[49m) \u001b[38;5;28;01mfor\u001b[39;00m (x,w) \u001b[38;5;129;01min\u001b[39;00m nodes)\n\u001b[0;32m    309\u001b[0m \u001b[38;5;28;01mreturn\u001b[39;00m h\u001b[38;5;241m*\u001b[39mS\n",
      "File \u001b[1;32mC:\\ProgramData\\Anaconda3\\lib\\site-packages\\mpmath\\functions\\zeta.py:1149\u001b[0m, in \u001b[0;36mlerchphi.<locals>.<lambda>\u001b[1;34m(t)\u001b[0m\n\u001b[0;32m   1147\u001b[0m h \u001b[38;5;241m=\u001b[39m s \u001b[38;5;241m/\u001b[39m \u001b[38;5;241m2\u001b[39m\n\u001b[0;32m   1148\u001b[0m r \u001b[38;5;241m=\u001b[39m \u001b[38;5;241m2\u001b[39m\u001b[38;5;241m*\u001b[39mctx\u001b[38;5;241m.\u001b[39mpi\n\u001b[1;32m-> 1149\u001b[0m f \u001b[38;5;241m=\u001b[39m \u001b[38;5;28;01mlambda\u001b[39;00m t: \u001b[43mctx\u001b[49m\u001b[38;5;241;43m.\u001b[39;49m\u001b[43msin\u001b[49m\u001b[43m(\u001b[49m\u001b[43ms\u001b[49m\u001b[38;5;241;43m*\u001b[39;49m\u001b[43mctx\u001b[49m\u001b[38;5;241;43m.\u001b[39;49m\u001b[43matan\u001b[49m\u001b[43m(\u001b[49m\u001b[43mt\u001b[49m\u001b[38;5;241;43m/\u001b[39;49m\u001b[43ma\u001b[49m\u001b[43m)\u001b[49m\u001b[38;5;241;43m-\u001b[39;49m\u001b[43mt\u001b[49m\u001b[38;5;241;43m*\u001b[39;49m\u001b[43mg\u001b[49m\u001b[43m)\u001b[49m \u001b[38;5;241m/\u001b[39m \\\n\u001b[0;32m   1150\u001b[0m     ((a\u001b[38;5;241m*\u001b[39m\u001b[38;5;241m*\u001b[39m\u001b[38;5;241m2\u001b[39m\u001b[38;5;241m+\u001b[39mt\u001b[38;5;241m*\u001b[39m\u001b[38;5;241m*\u001b[39m\u001b[38;5;241m2\u001b[39m)\u001b[38;5;241m*\u001b[39m\u001b[38;5;241m*\u001b[39mh \u001b[38;5;241m*\u001b[39m ctx\u001b[38;5;241m.\u001b[39mexpm1(r\u001b[38;5;241m*\u001b[39mt))\n\u001b[0;32m   1151\u001b[0m v \u001b[38;5;241m+\u001b[39m\u001b[38;5;241m=\u001b[39m \u001b[38;5;241m2\u001b[39m\u001b[38;5;241m*\u001b[39mctx\u001b[38;5;241m.\u001b[39mquad(f, [\u001b[38;5;241m0\u001b[39m, ctx\u001b[38;5;241m.\u001b[39minf])\n\u001b[0;32m   1152\u001b[0m \u001b[38;5;28;01mif\u001b[39;00m \u001b[38;5;129;01mnot\u001b[39;00m ctx\u001b[38;5;241m.\u001b[39mim(z) \u001b[38;5;129;01mand\u001b[39;00m \u001b[38;5;129;01mnot\u001b[39;00m ctx\u001b[38;5;241m.\u001b[39mim(s) \u001b[38;5;129;01mand\u001b[39;00m \u001b[38;5;129;01mnot\u001b[39;00m ctx\u001b[38;5;241m.\u001b[39mim(a) \u001b[38;5;129;01mand\u001b[39;00m ctx\u001b[38;5;241m.\u001b[39mre(z) \u001b[38;5;241m<\u001b[39m \u001b[38;5;241m1\u001b[39m:\n",
      "File \u001b[1;32mC:\\ProgramData\\Anaconda3\\lib\\site-packages\\mpmath\\math2.py:32\u001b[0m, in \u001b[0;36m_mathfun_real.<locals>.f\u001b[1;34m(x, **kwargs)\u001b[0m\n\u001b[0;32m     30\u001b[0m     \u001b[38;5;28;01mreturn\u001b[39;00m f_real(x)\n\u001b[0;32m     31\u001b[0m \u001b[38;5;28;01mif\u001b[39;00m \u001b[38;5;28mtype\u001b[39m(x) \u001b[38;5;129;01mis\u001b[39;00m \u001b[38;5;28mcomplex\u001b[39m:\n\u001b[1;32m---> 32\u001b[0m     \u001b[38;5;28;01mreturn\u001b[39;00m \u001b[43mf_complex\u001b[49m\u001b[43m(\u001b[49m\u001b[43mx\u001b[49m\u001b[43m)\u001b[49m\n\u001b[0;32m     33\u001b[0m \u001b[38;5;28;01mtry\u001b[39;00m:\n\u001b[0;32m     34\u001b[0m     x \u001b[38;5;241m=\u001b[39m \u001b[38;5;28mfloat\u001b[39m(x)\n",
      "\u001b[1;31mOverflowError\u001b[0m: math range error"
     ]
    }
   ],
   "source": [
    "c=3.07\n",
    "z=0.519\n",
    "q=2.0\n",
    "fp.lerchphi(-np.exp(c/z),2,1.0-1j*q*z)"
   ]
  },
  {
   "cell_type": "code",
   "execution_count": 38,
   "id": "ca753654-dc3a-4dc1-9960-8efc4d1153bc",
   "metadata": {
    "deletable": true,
    "editable": true,
    "execution": {
     "iopub.execute_input": "2025-03-17T13:06:53.057437Z",
     "iopub.status.busy": "2025-03-17T13:06:53.057437Z",
     "iopub.status.idle": "2025-03-17T13:06:59.357196Z",
     "shell.execute_reply": "2025-03-17T13:06:59.356226Z",
     "shell.execute_reply.started": "2025-03-17T13:06:53.057437Z"
    },
    "frozen": false
   },
   "outputs": [
    {
     "name": "stdout",
     "output_type": "stream",
     "text": [
      "77.4 ms ± 2.09 ms per loop (mean ± std. dev. of 7 runs, 10 loops each)\n"
     ]
    }
   ],
   "source": [
    "%timeit lerchphi(-np.exp(c/z),2,1-1j*q*z)"
   ]
  },
  {
   "cell_type": "code",
   "execution_count": null,
   "id": "02d5c3cb-0fb2-4fb7-a9c1-f91853f0b2b2",
   "metadata": {
    "deletable": true,
    "editable": true,
    "frozen": false
   },
   "outputs": [],
   "source": []
  }
 ],
 "metadata": {
  "kernelspec": {
   "display_name": "Python 3 (ipykernel)",
   "language": "python",
   "name": "python3"
  },
  "language_info": {
   "codemirror_mode": {
    "name": "ipython",
    "version": 3
   },
   "file_extension": ".py",
   "mimetype": "text/x-python",
   "name": "python",
   "nbconvert_exporter": "python",
   "pygments_lexer": "ipython3",
   "version": "3.8.18"
  }
 },
 "nbformat": 4,
 "nbformat_minor": 5
}
