{
 "cells": [
  {
   "cell_type": "code",
   "execution_count": 1,
   "id": "62094ec6-89cc-4737-8c27-46c044cdcefd",
   "metadata": {
    "execution": {
     "iopub.execute_input": "2025-01-14T15:40:58.857405Z",
     "iopub.status.busy": "2025-01-14T15:40:58.857405Z",
     "iopub.status.idle": "2025-01-14T15:40:59.452905Z",
     "shell.execute_reply": "2025-01-14T15:40:59.452905Z",
     "shell.execute_reply.started": "2025-01-14T15:40:58.857405Z"
    }
   },
   "outputs": [],
   "source": [
    "import numpy as np\n",
    "pi=np.pi\n",
    "\n",
    "import matplotlib.pyplot as plt"
   ]
  },
  {
   "cell_type": "code",
   "execution_count": 2,
   "id": "baa15ebc-7741-4dd8-9a87-6c35ae5381bf",
   "metadata": {
    "deletable": true,
    "editable": true,
    "execution": {
     "iopub.execute_input": "2025-01-14T15:40:59.452905Z",
     "iopub.status.busy": "2025-01-14T15:40:59.452905Z",
     "iopub.status.idle": "2025-01-14T15:41:00.080091Z",
     "shell.execute_reply": "2025-01-14T15:41:00.080091Z",
     "shell.execute_reply.started": "2025-01-14T15:40:59.452905Z"
    },
    "frozen": false
   },
   "outputs": [],
   "source": [
    "from src import phasr as phr\n",
    "from src.phasr.utility.math import derivative as deriv\n",
    "from src.phasr.utility.math import radial_laplace as lap"
   ]
  },
  {
   "cell_type": "code",
   "execution_count": null,
   "id": "d9b623e4-6f7c-4e6a-a543-99a4a2b5a8a3",
   "metadata": {},
   "outputs": [],
   "source": []
  },
  {
   "cell_type": "code",
   "execution_count": 3,
   "id": "bfbcd1ba-add0-44d5-a067-cf875b5ce364",
   "metadata": {
    "execution": {
     "iopub.execute_input": "2025-01-14T15:41:00.080091Z",
     "iopub.status.busy": "2025-01-14T15:41:00.080091Z",
     "iopub.status.idle": "2025-01-14T15:41:00.095713Z",
     "shell.execute_reply": "2025-01-14T15:41:00.095713Z",
     "shell.execute_reply.started": "2025-01-14T15:41:00.080091Z"
    }
   },
   "outputs": [],
   "source": [
    "# Al27\n",
    "J_Al27=5/2\n",
    "Z_Al27=13\n",
    "A_Al27=27\n",
    "# L=0\n",
    "Cs_Mpl_Al27=np.array([27, -11.3343, 0.837814])\n",
    "Cs_Mmi_Al27=np.array([2*13-27, 0.666696, -0.0858552])\n",
    "Cs_Phipl_Al27=np.array([-4.98975 , 0.997985])\n",
    "Cs_Phimi_Al27=np.array([0.303398 , -0.0606814])\n",
    "# L=2\n",
    "Cs_Mpl2_Al27=np.array([0, 0.992794, -0.201169])\n",
    "Cs_Mmi2_Al27=np.array([0, 0.36474, -0.0201471])\n",
    "Cs_Phipl2_Al27=np.array([-0.0278931, -0.223404])\n",
    "Cs_Phimi2_Al27=np.array([0.655348, -0.0947049])\n",
    "# L=4\n",
    "Cs_Mpl4_Al27=np.array([0, 0, -0.0827811])\n",
    "Cs_Mmi4_Al27=np.array([0, 0, -0.156105])\n",
    "Cs_Phipl4_Al27=np.array([0, -0.200917])\n",
    "Cs_Phimi4_Al27=np.array([0, -0.24046])\n",
    "#\n",
    "# Al27 Delta (soon)\n",
    "norm = 2*np.sqrt(4*pi/(2*J_Al27+1))\n",
    "# L=1\n",
    "Cs_Delta_p1_Al27=norm*np.array([0, 0, 0]) # tmp for testing\n",
    "Cs_Delta_n1_Al27=norm*np.array([0, 0, 0]) # tmp for testing\n",
    "Cs_Sigmap_p1_Al27=norm*np.array([0.217688, -0.199127, 0.0274599])\n",
    "Cs_Sigmap_n1_Al27=norm*np.array([0.0255784, -0.00985665, -0.00150251])\n",
    "Cs_Sigmapp_p1_Al27=norm*np.array([0.153928, -0.0262479, 0.00103769])\n",
    "Cs_Sigmapp_n1_Al27=norm*np.array([0.0180868, -0.022234, 0.00278141])\n",
    "# L=3\n",
    "Cs_Delta_p3_Al27=norm*np.array([0, 0, 0]) # tmp for testing\n",
    "Cs_Delta_n3_Al27=norm*np.array([0, 0, 0]) # tmp for testing\n",
    "Cs_Sigmap_p3_Al27=norm*np.array([0, -0.0543796, 0.00651646])\n",
    "Cs_Sigmap_n3_Al27=norm*np.array([0, 0.000280434, -0.000488419])\n",
    "Cs_Sigmapp_p3_Al27=norm*np.array([0, -0.0470943, -0.00206298])\n",
    "Cs_Sigmapp_n3_Al27=norm*np.array([0, 0.000242867, 0.000103865])\n",
    "# L=5\n",
    "Cs_Delta_p5_Al27=norm*np.array([0, 0, 0]) # tmp for testing\n",
    "Cs_Delta_n5_Al27=norm*np.array([0, 0, 0]) # tmp for testing\n",
    "Cs_Sigmap_p5_Al27=norm*np.array([0, 0, 0.0277341])\n",
    "Cs_Sigmap_n5_Al27=norm*np.array([0, 0, 0.000128524])\n",
    "Cs_Sigmapp_p5_Al27=norm*np.array([0, 0, 0.0253177])\n",
    "Cs_Sigmapp_n5_Al27=norm*np.array([0, 0, 0.000117327])\n",
    "#"
   ]
  },
  {
   "cell_type": "code",
   "execution_count": 4,
   "id": "6f9d0096-bd20-47b3-9acd-1788d01aa863",
   "metadata": {
    "execution": {
     "iopub.execute_input": "2025-01-14T15:41:00.095713Z",
     "iopub.status.busy": "2025-01-14T15:41:00.095713Z",
     "iopub.status.idle": "2025-01-14T15:41:00.111367Z",
     "shell.execute_reply": "2025-01-14T15:41:00.111367Z",
     "shell.execute_reply.started": "2025-01-14T15:41:00.095713Z"
    }
   },
   "outputs": [
    {
     "data": {
      "text/plain": [
       "array([ True,  True,  True])"
      ]
     },
     "execution_count": 4,
     "metadata": {},
     "output_type": "execute_result"
    }
   ],
   "source": [
    "a = np.array([1,2,3])\n",
    "b = np.array(np.array([1,2,3]))\n",
    "b == b"
   ]
  },
  {
   "cell_type": "code",
   "execution_count": 5,
   "id": "2f1b496b-cb33-43ad-b0c1-e3c7b745ab6d",
   "metadata": {
    "execution": {
     "iopub.execute_input": "2025-01-14T15:41:00.111367Z",
     "iopub.status.busy": "2025-01-14T15:41:00.111367Z",
     "iopub.status.idle": "2025-01-14T15:41:00.126937Z",
     "shell.execute_reply": "2025-01-14T15:41:00.126937Z",
     "shell.execute_reply.started": "2025-01-14T15:41:00.111367Z"
    }
   },
   "outputs": [],
   "source": [
    "nuc_test = phr.nucleus('test_Al27',Z=13,A=27,Ci_dict={'M00':Cs_Mpl_Al27,'M01':Cs_Mmi_Al27,'Phipp00':Cs_Phipl_Al27,'Phipp01':Cs_Phimi_Al27,'Sigmap1p':Cs_Sigmap_p1_Al27,'Sigmap1n':Cs_Sigmap_n1_Al27})"
   ]
  },
  {
   "cell_type": "code",
   "execution_count": 6,
   "id": "ca45e024-e8f3-4a6e-999c-f02520a7162c",
   "metadata": {
    "execution": {
     "iopub.execute_input": "2025-01-14T15:41:00.126937Z",
     "iopub.status.busy": "2025-01-14T15:41:00.126937Z",
     "iopub.status.idle": "2025-01-14T15:41:00.142571Z",
     "shell.execute_reply": "2025-01-14T15:41:00.142571Z",
     "shell.execute_reply.started": "2025-01-14T15:41:00.126937Z"
    }
   },
   "outputs": [
    {
     "data": {
      "text/plain": [
       "{'nucleus_type': 'oszillator-basis',\n",
       " 'name': 'test_Al27',\n",
       " 'Z': 13,\n",
       " 'A': 27,\n",
       " 'm': 25133.143901270712,\n",
       " 'abundance': 1.0,\n",
       " 'spin': 2.5,\n",
       " 'parity': 1,\n",
       " 'Qw': -12.9244,\n",
       " 'multipoles': ['M00',\n",
       "  'M01',\n",
       "  'M0n',\n",
       "  'M0p',\n",
       "  'Phipp00',\n",
       "  'Phipp01',\n",
       "  'Phipp0n',\n",
       "  'Phipp0p',\n",
       "  'Sigmap10',\n",
       "  'Sigmap11',\n",
       "  'Sigmap1n',\n",
       "  'Sigmap1p'],\n",
       " 'Ci_M00': array([ 27.      , -11.3343  ,   0.837814]),\n",
       " 'Ci_M01': array([-1.       ,  0.666696 , -0.0858552]),\n",
       " 'Ci_Phipp00': array([-4.98975 ,  0.997985]),\n",
       " 'Ci_Phipp01': array([ 0.303398 , -0.0606814]),\n",
       " 'Ci_Sigmap1p': array([ 0.63007724, -0.57635419,  0.07948007]),\n",
       " 'Ci_Sigmap1n': array([ 0.07403425, -0.02852914, -0.00434887]),\n",
       " 'Ci_M0p': array([13.       , -5.333802 ,  0.3759794]),\n",
       " 'Ci_M0n': array([14.       , -6.000498 ,  0.4618346]),\n",
       " 'Ci_Phipp0p': array([-2.343176 ,  0.4686518]),\n",
       " 'Ci_Phipp0n': array([-2.646574 ,  0.5293332]),\n",
       " 'Ci_Sigmap10': array([ 0.70411149, -0.60488333,  0.0751312 ]),\n",
       " 'Ci_Sigmap11': array([ 0.55604299, -0.54782505,  0.08382894]),\n",
       " 'b_osz': 1.84203281053356,\n",
       " 'FM00': <function src.phasr.nuclei.parameterisations.oszillator_basis.nucleus_osz.update_dependencies.<locals>.struc(q, multipole='M00')>,\n",
       " 'FM01': <function src.phasr.nuclei.parameterisations.oszillator_basis.nucleus_osz.update_dependencies.<locals>.struc(q, multipole='M01')>,\n",
       " 'FM0n': <function src.phasr.nuclei.parameterisations.oszillator_basis.nucleus_osz.update_dependencies.<locals>.struc(q, multipole='M0n')>,\n",
       " 'FM0p': <function src.phasr.nuclei.parameterisations.oszillator_basis.nucleus_osz.update_dependencies.<locals>.struc(q, multipole='M0p')>,\n",
       " 'FPhipp00': <function src.phasr.nuclei.parameterisations.oszillator_basis.nucleus_osz.update_dependencies.<locals>.struc(q, multipole='Phipp00')>,\n",
       " 'FPhipp01': <function src.phasr.nuclei.parameterisations.oszillator_basis.nucleus_osz.update_dependencies.<locals>.struc(q, multipole='Phipp01')>,\n",
       " 'FPhipp0n': <function src.phasr.nuclei.parameterisations.oszillator_basis.nucleus_osz.update_dependencies.<locals>.struc(q, multipole='Phipp0n')>,\n",
       " 'FPhipp0p': <function src.phasr.nuclei.parameterisations.oszillator_basis.nucleus_osz.update_dependencies.<locals>.struc(q, multipole='Phipp0p')>,\n",
       " 'FSigmap10': <function src.phasr.nuclei.parameterisations.oszillator_basis.nucleus_osz.update_dependencies.<locals>.struc(q, multipole='Sigmap10')>,\n",
       " 'FSigmap11': <function src.phasr.nuclei.parameterisations.oszillator_basis.nucleus_osz.update_dependencies.<locals>.struc(q, multipole='Sigmap11')>,\n",
       " 'FSigmap1n': <function src.phasr.nuclei.parameterisations.oszillator_basis.nucleus_osz.update_dependencies.<locals>.struc(q, multipole='Sigmap1n')>,\n",
       " 'FSigmap1p': <function src.phasr.nuclei.parameterisations.oszillator_basis.nucleus_osz.update_dependencies.<locals>.struc(q, multipole='Sigmap1p')>,\n",
       " 'rhoM0n': <function src.phasr.nuclei.parameterisations.oszillator_basis.nucleus_osz.update_dependencies.<locals>.rho(q, multipole='M0n')>,\n",
       " 'ElM0n': <function src.phasr.nuclei.parameterisations.oszillator_basis.nucleus_osz.update_dependencies.<locals>.El(q, multipole='M0n')>,\n",
       " 'VM0n': <function src.phasr.nuclei.parameterisations.oszillator_basis.nucleus_osz.update_dependencies.<locals>.V(q, multipole='M0n')>,\n",
       " 'rhoM0p': <function src.phasr.nuclei.parameterisations.oszillator_basis.nucleus_osz.update_dependencies.<locals>.rho(q, multipole='M0p')>,\n",
       " 'ElM0p': <function src.phasr.nuclei.parameterisations.oszillator_basis.nucleus_osz.update_dependencies.<locals>.El(q, multipole='M0p')>,\n",
       " 'VM0p': <function src.phasr.nuclei.parameterisations.oszillator_basis.nucleus_osz.update_dependencies.<locals>.V(q, multipole='M0p')>,\n",
       " 'rhoPhipp0n': <function src.phasr.nuclei.parameterisations.oszillator_basis.nucleus_osz.update_dependencies.<locals>.rho(q, multipole='Phipp0n')>,\n",
       " 'ElPhipp0n': <function src.phasr.nuclei.parameterisations.oszillator_basis.nucleus_osz.update_dependencies.<locals>.El(q, multipole='Phipp0n')>,\n",
       " 'VPhipp0n': <function src.phasr.nuclei.parameterisations.oszillator_basis.nucleus_osz.update_dependencies.<locals>.V(q, multipole='Phipp0n')>,\n",
       " 'rhoPhipp0p': <function src.phasr.nuclei.parameterisations.oszillator_basis.nucleus_osz.update_dependencies.<locals>.rho(q, multipole='Phipp0p')>,\n",
       " 'ElPhipp0p': <function src.phasr.nuclei.parameterisations.oszillator_basis.nucleus_osz.update_dependencies.<locals>.El(q, multipole='Phipp0p')>,\n",
       " 'VPhipp0p': <function src.phasr.nuclei.parameterisations.oszillator_basis.nucleus_osz.update_dependencies.<locals>.V(q, multipole='Phipp0p')>,\n",
       " 'proton_density': <function src.phasr.nuclei.parameterisations.oszillator_basis.nucleus_osz.update_dependencies.<locals>.rho(q, multipole='M0p')>,\n",
       " 'neutron_density': <function src.phasr.nuclei.parameterisations.oszillator_basis.nucleus_osz.update_dependencies.<locals>.rho(q, multipole='M0n')>,\n",
       " 'form_factor': <function src.phasr.nuclei.base.nucleus_base.update_dependencies.<locals>.F0ch(q)>,\n",
       " 'charge_density': <function src.phasr.nuclei.base.nucleus_base.update_dependencies.<locals>.rhoch(r)>,\n",
       " 'weak_density': <function src.phasr.nuclei.base.nucleus_base.update_dependencies.<locals>.rhow(r)>,\n",
       " 'electric_field': <function src.phasr.nuclei.base.nucleus_base.update_dependencies.<locals>.Elch(r)>,\n",
       " 'electric_potential': <function src.phasr.nuclei.base.nucleus_base.update_dependencies.<locals>.Vch(r)>}"
      ]
     },
     "execution_count": 6,
     "metadata": {},
     "output_type": "execute_result"
    }
   ],
   "source": [
    "nuc_test.__dict__"
   ]
  },
  {
   "cell_type": "code",
   "execution_count": 9,
   "id": "0d8a2647-8cdc-45e5-b8f1-359bbe1a992d",
   "metadata": {
    "execution": {
     "iopub.execute_input": "2025-01-14T15:41:13.996282Z",
     "iopub.status.busy": "2025-01-14T15:41:13.996282Z",
     "iopub.status.idle": "2025-01-14T15:41:14.153562Z",
     "shell.execute_reply": "2025-01-14T15:41:14.153562Z",
     "shell.execute_reply.started": "2025-01-14T15:41:13.996282Z"
    }
   },
   "outputs": [
    {
     "data": {
      "text/plain": [
       "[<matplotlib.lines.Line2D at 0x1ee4764e700>]"
      ]
     },
     "execution_count": 9,
     "metadata": {},
     "output_type": "execute_result"
    },
    {
     "data": {
      "image/png": "[encoded data removed]",
      "text/plain": [
       "<Figure size 640x480 with 1 Axes>"
      ]
     },
     "metadata": {},
     "output_type": "display_data"
    }
   ],
   "source": [
    "r=np.arange(0,10,0.1)\n",
    "plt.plot(r,nuc_test.proton_density(r))\n",
    "plt.plot(r,nuc_test.neutron_density(r))\n",
    "plt.plot(r,nuc_test.charge_density(r))\n",
    "plt.plot(r,-nuc_test.weak_density(r))"
   ]
  },
  {
   "cell_type": "code",
   "execution_count": null,
   "id": "c933dd75-78ed-49ed-8830-74a6e437b0f0",
   "metadata": {},
   "outputs": [],
   "source": []
  },
  {
   "cell_type": "code",
   "execution_count": null,
   "id": "40fe847a-e55a-4419-9a27-37f202cfc7c8",
   "metadata": {},
   "outputs": [],
   "source": []
  }
 ],
 "metadata": {
  "kernelspec": {
   "display_name": "Python 3 (ipykernel)",
   "language": "python",
   "name": "python3"
  },
  "language_info": {
   "codemirror_mode": {
    "name": "ipython",
    "version": 3
   },
   "file_extension": ".py",
   "mimetype": "text/x-python",
   "name": "python",
   "nbconvert_exporter": "python",
   "pygments_lexer": "ipython3",
   "version": "3.8.18"
  }
 },
 "nbformat": 4,
 "nbformat_minor": 5
}
